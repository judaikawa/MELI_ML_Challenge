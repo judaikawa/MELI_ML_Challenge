{
 "cells": [
  {
   "attachments": {},
   "cell_type": "markdown",
   "metadata": {},
   "source": [
    "# Data Science Challenge - MeLi"
   ]
  },
  {
   "attachments": {},
   "cell_type": "markdown",
   "metadata": {},
   "source": [
    "### Bibliotecas"
   ]
  },
  {
   "cell_type": "code",
   "execution_count": 40,
   "metadata": {},
   "outputs": [],
   "source": [
    "import pandas as pd\n",
    "import numpy as np\n",
    "import math \n",
    "from matplotlib import pyplot as plt\n",
    "import matplotlib.patches as mpatches\n",
    "import seaborn as sns\n",
    "from plotnine import *\n",
    "from collections import ChainMap\n",
    "\n",
    "import warnings\n",
    "warnings.filterwarnings('ignore')\n",
    "\n",
    "from imblearn.over_sampling import RandomOverSampler\n",
    "from imblearn.under_sampling import RandomUnderSampler\n",
    "from imblearn.over_sampling import SMOTE\n",
    "\n",
    "from sklearn.metrics import roc_auc_score, roc_curve, precision_score, recall_score, classification_report, confusion_matrix, precision_recall_curve, average_precision_score, f1_score, log_loss, ConfusionMatrixDisplay\n",
    "from sklearn.model_selection import train_test_split, RandomizedSearchCV, cross_validate, KFold, cross_val_score, cross_validate\n",
    "from sklearn.preprocessing import MinMaxScaler\n",
    "from sklearn.linear_model import LogisticRegression\n",
    "from sklearn.tree import DecisionTreeClassifier\n",
    "import statsmodels.api as sm\n",
    "from sklearn.ensemble import RandomForestClassifier\n",
    "from lightgbm import LGBMClassifier\n",
    "from xgboost import XGBClassifier\n",
    "\n",
    "import pickle"
   ]
  },
  {
   "cell_type": "markdown",
   "metadata": {},
   "source": [
    "### Dados e EDA"
   ]
  },
  {
   "cell_type": "code",
   "execution_count": 2,
   "metadata": {},
   "outputs": [
    {
     "data": {
      "text/plain": [
       "(124494, 12)"
      ]
     },
     "execution_count": 2,
     "metadata": {},
     "output_type": "execute_result"
    }
   ],
   "source": [
    "devices_df = pd.read_csv('devices_sensor.csv', encoding=\"ISO-8859-1\")\n",
    "devices_df.shape"
   ]
  },
  {
   "cell_type": "code",
   "execution_count": 3,
   "metadata": {},
   "outputs": [
    {
     "data": {
      "text/html": [
       "<div>\n",
       "<style scoped>\n",
       "    .dataframe tbody tr th:only-of-type {\n",
       "        vertical-align: middle;\n",
       "    }\n",
       "\n",
       "    .dataframe tbody tr th {\n",
       "        vertical-align: top;\n",
       "    }\n",
       "\n",
       "    .dataframe thead th {\n",
       "        text-align: right;\n",
       "    }\n",
       "</style>\n",
       "<table border=\"1\" class=\"dataframe\">\n",
       "  <thead>\n",
       "    <tr style=\"text-align: right;\">\n",
       "      <th></th>\n",
       "      <th>date</th>\n",
       "      <th>device</th>\n",
       "      <th>failure</th>\n",
       "      <th>attribute1</th>\n",
       "      <th>attribute2</th>\n",
       "      <th>attribute3</th>\n",
       "      <th>attribute4</th>\n",
       "      <th>attribute5</th>\n",
       "      <th>attribute6</th>\n",
       "      <th>attribute7</th>\n",
       "      <th>attribute8</th>\n",
       "      <th>attribute9</th>\n",
       "    </tr>\n",
       "  </thead>\n",
       "  <tbody>\n",
       "    <tr>\n",
       "      <th>0</th>\n",
       "      <td>2015-01-01</td>\n",
       "      <td>S1F01085</td>\n",
       "      <td>0</td>\n",
       "      <td>215630672</td>\n",
       "      <td>56</td>\n",
       "      <td>0</td>\n",
       "      <td>52</td>\n",
       "      <td>6</td>\n",
       "      <td>407438</td>\n",
       "      <td>0</td>\n",
       "      <td>0</td>\n",
       "      <td>7</td>\n",
       "    </tr>\n",
       "    <tr>\n",
       "      <th>1</th>\n",
       "      <td>2015-01-01</td>\n",
       "      <td>S1F0166B</td>\n",
       "      <td>0</td>\n",
       "      <td>61370680</td>\n",
       "      <td>0</td>\n",
       "      <td>3</td>\n",
       "      <td>0</td>\n",
       "      <td>6</td>\n",
       "      <td>403174</td>\n",
       "      <td>0</td>\n",
       "      <td>0</td>\n",
       "      <td>0</td>\n",
       "    </tr>\n",
       "    <tr>\n",
       "      <th>2</th>\n",
       "      <td>2015-01-01</td>\n",
       "      <td>S1F01E6Y</td>\n",
       "      <td>0</td>\n",
       "      <td>173295968</td>\n",
       "      <td>0</td>\n",
       "      <td>0</td>\n",
       "      <td>0</td>\n",
       "      <td>12</td>\n",
       "      <td>237394</td>\n",
       "      <td>0</td>\n",
       "      <td>0</td>\n",
       "      <td>0</td>\n",
       "    </tr>\n",
       "    <tr>\n",
       "      <th>3</th>\n",
       "      <td>2015-01-01</td>\n",
       "      <td>S1F01JE0</td>\n",
       "      <td>0</td>\n",
       "      <td>79694024</td>\n",
       "      <td>0</td>\n",
       "      <td>0</td>\n",
       "      <td>0</td>\n",
       "      <td>6</td>\n",
       "      <td>410186</td>\n",
       "      <td>0</td>\n",
       "      <td>0</td>\n",
       "      <td>0</td>\n",
       "    </tr>\n",
       "    <tr>\n",
       "      <th>4</th>\n",
       "      <td>2015-01-01</td>\n",
       "      <td>S1F01R2B</td>\n",
       "      <td>0</td>\n",
       "      <td>135970480</td>\n",
       "      <td>0</td>\n",
       "      <td>0</td>\n",
       "      <td>0</td>\n",
       "      <td>15</td>\n",
       "      <td>313173</td>\n",
       "      <td>0</td>\n",
       "      <td>0</td>\n",
       "      <td>3</td>\n",
       "    </tr>\n",
       "  </tbody>\n",
       "</table>\n",
       "</div>"
      ],
      "text/plain": [
       "         date    device  failure  attribute1  attribute2  attribute3   \n",
       "0  2015-01-01  S1F01085        0   215630672          56           0  \\\n",
       "1  2015-01-01  S1F0166B        0    61370680           0           3   \n",
       "2  2015-01-01  S1F01E6Y        0   173295968           0           0   \n",
       "3  2015-01-01  S1F01JE0        0    79694024           0           0   \n",
       "4  2015-01-01  S1F01R2B        0   135970480           0           0   \n",
       "\n",
       "   attribute4  attribute5  attribute6  attribute7  attribute8  attribute9  \n",
       "0          52           6      407438           0           0           7  \n",
       "1           0           6      403174           0           0           0  \n",
       "2           0          12      237394           0           0           0  \n",
       "3           0           6      410186           0           0           0  \n",
       "4           0          15      313173           0           0           3  "
      ]
     },
     "execution_count": 3,
     "metadata": {},
     "output_type": "execute_result"
    }
   ],
   "source": [
    "devices_df.head()"
   ]
  },
  {
   "attachments": {},
   "cell_type": "markdown",
   "metadata": {},
   "source": [
    "Para conhecer os melhor os dados, podemos destacar algumas informações básicas como seu tipo, percentual de valores nulos e a cardinalidade de valores únicos."
   ]
  },
  {
   "cell_type": "code",
   "execution_count": 4,
   "metadata": {},
   "outputs": [
    {
     "data": {
      "text/html": [
       "<div>\n",
       "<style scoped>\n",
       "    .dataframe tbody tr th:only-of-type {\n",
       "        vertical-align: middle;\n",
       "    }\n",
       "\n",
       "    .dataframe tbody tr th {\n",
       "        vertical-align: top;\n",
       "    }\n",
       "\n",
       "    .dataframe thead th {\n",
       "        text-align: right;\n",
       "    }\n",
       "</style>\n",
       "<table border=\"1\" class=\"dataframe\">\n",
       "  <thead>\n",
       "    <tr style=\"text-align: right;\">\n",
       "      <th></th>\n",
       "      <th>column</th>\n",
       "      <th>dtype</th>\n",
       "      <th>na_perc</th>\n",
       "      <th>unique_values</th>\n",
       "      <th>example_values</th>\n",
       "      <th>min_value</th>\n",
       "      <th>max_value</th>\n",
       "    </tr>\n",
       "  </thead>\n",
       "  <tbody>\n",
       "    <tr>\n",
       "      <th>0</th>\n",
       "      <td>date</td>\n",
       "      <td>object</td>\n",
       "      <td>0.0</td>\n",
       "      <td>304</td>\n",
       "      <td>[2015-01-01, 2015-01-02, 2015-01-03, 2015-01-0...</td>\n",
       "      <td>2015-01-01</td>\n",
       "      <td>2015-11-02</td>\n",
       "    </tr>\n",
       "    <tr>\n",
       "      <th>1</th>\n",
       "      <td>device</td>\n",
       "      <td>object</td>\n",
       "      <td>0.0</td>\n",
       "      <td>1169</td>\n",
       "      <td>[S1F01085, S1F0166B, S1F01E6Y, S1F01JE0, S1F01...</td>\n",
       "      <td>S1F01085</td>\n",
       "      <td>Z1F2PBHX</td>\n",
       "    </tr>\n",
       "    <tr>\n",
       "      <th>2</th>\n",
       "      <td>failure</td>\n",
       "      <td>int64</td>\n",
       "      <td>0.0</td>\n",
       "      <td>2</td>\n",
       "      <td>[0, 1]</td>\n",
       "      <td>0</td>\n",
       "      <td>1</td>\n",
       "    </tr>\n",
       "    <tr>\n",
       "      <th>3</th>\n",
       "      <td>attribute1</td>\n",
       "      <td>int64</td>\n",
       "      <td>0.0</td>\n",
       "      <td>123877</td>\n",
       "      <td>[215630672, 61370680, 173295968, 79694024, 135...</td>\n",
       "      <td>0</td>\n",
       "      <td>244140480</td>\n",
       "    </tr>\n",
       "    <tr>\n",
       "      <th>4</th>\n",
       "      <td>attribute2</td>\n",
       "      <td>int64</td>\n",
       "      <td>0.0</td>\n",
       "      <td>558</td>\n",
       "      <td>[56, 0, 1536, 168, 5160]</td>\n",
       "      <td>0</td>\n",
       "      <td>64968</td>\n",
       "    </tr>\n",
       "    <tr>\n",
       "      <th>5</th>\n",
       "      <td>attribute3</td>\n",
       "      <td>int64</td>\n",
       "      <td>0.0</td>\n",
       "      <td>47</td>\n",
       "      <td>[0, 3, 1, 323, 266]</td>\n",
       "      <td>0</td>\n",
       "      <td>24929</td>\n",
       "    </tr>\n",
       "    <tr>\n",
       "      <th>6</th>\n",
       "      <td>attribute4</td>\n",
       "      <td>int64</td>\n",
       "      <td>0.0</td>\n",
       "      <td>115</td>\n",
       "      <td>[52, 0, 41, 1, 9]</td>\n",
       "      <td>0</td>\n",
       "      <td>1666</td>\n",
       "    </tr>\n",
       "    <tr>\n",
       "      <th>7</th>\n",
       "      <td>attribute5</td>\n",
       "      <td>int64</td>\n",
       "      <td>0.0</td>\n",
       "      <td>60</td>\n",
       "      <td>[6, 12, 15, 8, 19]</td>\n",
       "      <td>1</td>\n",
       "      <td>98</td>\n",
       "    </tr>\n",
       "    <tr>\n",
       "      <th>8</th>\n",
       "      <td>attribute6</td>\n",
       "      <td>int64</td>\n",
       "      <td>0.0</td>\n",
       "      <td>44838</td>\n",
       "      <td>[407438, 403174, 237394, 410186, 313173]</td>\n",
       "      <td>8</td>\n",
       "      <td>689161</td>\n",
       "    </tr>\n",
       "    <tr>\n",
       "      <th>9</th>\n",
       "      <td>attribute7</td>\n",
       "      <td>int64</td>\n",
       "      <td>0.0</td>\n",
       "      <td>28</td>\n",
       "      <td>[0, 16, 8, 48, 32]</td>\n",
       "      <td>0</td>\n",
       "      <td>832</td>\n",
       "    </tr>\n",
       "    <tr>\n",
       "      <th>10</th>\n",
       "      <td>attribute8</td>\n",
       "      <td>int64</td>\n",
       "      <td>0.0</td>\n",
       "      <td>28</td>\n",
       "      <td>[0, 16, 8, 48, 32]</td>\n",
       "      <td>0</td>\n",
       "      <td>832</td>\n",
       "    </tr>\n",
       "    <tr>\n",
       "      <th>11</th>\n",
       "      <td>attribute9</td>\n",
       "      <td>int64</td>\n",
       "      <td>0.0</td>\n",
       "      <td>65</td>\n",
       "      <td>[7, 0, 3, 1, 164]</td>\n",
       "      <td>0</td>\n",
       "      <td>18701</td>\n",
       "    </tr>\n",
       "  </tbody>\n",
       "</table>\n",
       "</div>"
      ],
      "text/plain": [
       "        column   dtype  na_perc  unique_values   \n",
       "0         date  object      0.0            304  \\\n",
       "1       device  object      0.0           1169   \n",
       "2      failure   int64      0.0              2   \n",
       "3   attribute1   int64      0.0         123877   \n",
       "4   attribute2   int64      0.0            558   \n",
       "5   attribute3   int64      0.0             47   \n",
       "6   attribute4   int64      0.0            115   \n",
       "7   attribute5   int64      0.0             60   \n",
       "8   attribute6   int64      0.0          44838   \n",
       "9   attribute7   int64      0.0             28   \n",
       "10  attribute8   int64      0.0             28   \n",
       "11  attribute9   int64      0.0             65   \n",
       "\n",
       "                                       example_values   min_value   max_value  \n",
       "0   [2015-01-01, 2015-01-02, 2015-01-03, 2015-01-0...  2015-01-01  2015-11-02  \n",
       "1   [S1F01085, S1F0166B, S1F01E6Y, S1F01JE0, S1F01...    S1F01085    Z1F2PBHX  \n",
       "2                                              [0, 1]           0           1  \n",
       "3   [215630672, 61370680, 173295968, 79694024, 135...           0   244140480  \n",
       "4                            [56, 0, 1536, 168, 5160]           0       64968  \n",
       "5                                 [0, 3, 1, 323, 266]           0       24929  \n",
       "6                                   [52, 0, 41, 1, 9]           0        1666  \n",
       "7                                  [6, 12, 15, 8, 19]           1          98  \n",
       "8            [407438, 403174, 237394, 410186, 313173]           8      689161  \n",
       "9                                  [0, 16, 8, 48, 32]           0         832  \n",
       "10                                 [0, 16, 8, 48, 32]           0         832  \n",
       "11                                  [7, 0, 3, 1, 164]           0       18701  "
      ]
     },
     "execution_count": 4,
     "metadata": {},
     "output_type": "execute_result"
    }
   ],
   "source": [
    "summary_devices_df = pd.DataFrame({'column':devices_df.columns})\n",
    "summary_devices_df['dtype'] = devices_df.dtypes.values\n",
    "summary_devices_df['na_perc'] = devices_df.isna().sum().values/devices_df.shape[0]\n",
    "summary_devices_df['unique_values'] = devices_df.nunique().values\n",
    "summary_devices_df['example_values'] = devices_df.apply(lambda x: x.unique()[0:5]).values\n",
    "summary_devices_df['min_value'] = devices_df.apply(lambda x: x.min()).values\n",
    "summary_devices_df['max_value'] = devices_df.apply(lambda x: x.max()).values\n",
    "summary_devices_df"
   ]
  },
  {
   "attachments": {},
   "cell_type": "markdown",
   "metadata": {},
   "source": [
    "#### Estatística descritiva de variáveis numéricas"
   ]
  },
  {
   "cell_type": "code",
   "execution_count": 5,
   "metadata": {},
   "outputs": [
    {
     "data": {
      "text/html": [
       "<div>\n",
       "<style scoped>\n",
       "    .dataframe tbody tr th:only-of-type {\n",
       "        vertical-align: middle;\n",
       "    }\n",
       "\n",
       "    .dataframe tbody tr th {\n",
       "        vertical-align: top;\n",
       "    }\n",
       "\n",
       "    .dataframe thead th {\n",
       "        text-align: right;\n",
       "    }\n",
       "</style>\n",
       "<table border=\"1\" class=\"dataframe\">\n",
       "  <thead>\n",
       "    <tr style=\"text-align: right;\">\n",
       "      <th></th>\n",
       "      <th>failure</th>\n",
       "      <th>attribute1</th>\n",
       "      <th>attribute2</th>\n",
       "      <th>attribute3</th>\n",
       "      <th>attribute4</th>\n",
       "      <th>attribute5</th>\n",
       "      <th>attribute6</th>\n",
       "      <th>attribute7</th>\n",
       "      <th>attribute8</th>\n",
       "      <th>attribute9</th>\n",
       "    </tr>\n",
       "  </thead>\n",
       "  <tbody>\n",
       "    <tr>\n",
       "      <th>count</th>\n",
       "      <td>124494.000000</td>\n",
       "      <td>1.244940e+05</td>\n",
       "      <td>124494.000000</td>\n",
       "      <td>124494.000000</td>\n",
       "      <td>124494.000000</td>\n",
       "      <td>124494.000000</td>\n",
       "      <td>124494.000000</td>\n",
       "      <td>124494.000000</td>\n",
       "      <td>124494.000000</td>\n",
       "      <td>124494.000000</td>\n",
       "    </tr>\n",
       "    <tr>\n",
       "      <th>mean</th>\n",
       "      <td>0.000851</td>\n",
       "      <td>1.223881e+08</td>\n",
       "      <td>159.484762</td>\n",
       "      <td>9.940455</td>\n",
       "      <td>1.741120</td>\n",
       "      <td>14.222669</td>\n",
       "      <td>260172.657726</td>\n",
       "      <td>0.292528</td>\n",
       "      <td>0.292528</td>\n",
       "      <td>12.451524</td>\n",
       "    </tr>\n",
       "    <tr>\n",
       "      <th>std</th>\n",
       "      <td>0.029167</td>\n",
       "      <td>7.045933e+07</td>\n",
       "      <td>2179.657730</td>\n",
       "      <td>185.747321</td>\n",
       "      <td>22.908507</td>\n",
       "      <td>15.943028</td>\n",
       "      <td>99151.078547</td>\n",
       "      <td>7.436924</td>\n",
       "      <td>7.436924</td>\n",
       "      <td>191.425623</td>\n",
       "    </tr>\n",
       "    <tr>\n",
       "      <th>min</th>\n",
       "      <td>0.000000</td>\n",
       "      <td>0.000000e+00</td>\n",
       "      <td>0.000000</td>\n",
       "      <td>0.000000</td>\n",
       "      <td>0.000000</td>\n",
       "      <td>1.000000</td>\n",
       "      <td>8.000000</td>\n",
       "      <td>0.000000</td>\n",
       "      <td>0.000000</td>\n",
       "      <td>0.000000</td>\n",
       "    </tr>\n",
       "    <tr>\n",
       "      <th>25%</th>\n",
       "      <td>0.000000</td>\n",
       "      <td>6.128476e+07</td>\n",
       "      <td>0.000000</td>\n",
       "      <td>0.000000</td>\n",
       "      <td>0.000000</td>\n",
       "      <td>8.000000</td>\n",
       "      <td>221452.000000</td>\n",
       "      <td>0.000000</td>\n",
       "      <td>0.000000</td>\n",
       "      <td>0.000000</td>\n",
       "    </tr>\n",
       "    <tr>\n",
       "      <th>50%</th>\n",
       "      <td>0.000000</td>\n",
       "      <td>1.227974e+08</td>\n",
       "      <td>0.000000</td>\n",
       "      <td>0.000000</td>\n",
       "      <td>0.000000</td>\n",
       "      <td>10.000000</td>\n",
       "      <td>249799.500000</td>\n",
       "      <td>0.000000</td>\n",
       "      <td>0.000000</td>\n",
       "      <td>0.000000</td>\n",
       "    </tr>\n",
       "    <tr>\n",
       "      <th>75%</th>\n",
       "      <td>0.000000</td>\n",
       "      <td>1.833096e+08</td>\n",
       "      <td>0.000000</td>\n",
       "      <td>0.000000</td>\n",
       "      <td>0.000000</td>\n",
       "      <td>12.000000</td>\n",
       "      <td>310266.000000</td>\n",
       "      <td>0.000000</td>\n",
       "      <td>0.000000</td>\n",
       "      <td>0.000000</td>\n",
       "    </tr>\n",
       "    <tr>\n",
       "      <th>max</th>\n",
       "      <td>1.000000</td>\n",
       "      <td>2.441405e+08</td>\n",
       "      <td>64968.000000</td>\n",
       "      <td>24929.000000</td>\n",
       "      <td>1666.000000</td>\n",
       "      <td>98.000000</td>\n",
       "      <td>689161.000000</td>\n",
       "      <td>832.000000</td>\n",
       "      <td>832.000000</td>\n",
       "      <td>18701.000000</td>\n",
       "    </tr>\n",
       "  </tbody>\n",
       "</table>\n",
       "</div>"
      ],
      "text/plain": [
       "             failure    attribute1     attribute2     attribute3   \n",
       "count  124494.000000  1.244940e+05  124494.000000  124494.000000  \\\n",
       "mean        0.000851  1.223881e+08     159.484762       9.940455   \n",
       "std         0.029167  7.045933e+07    2179.657730     185.747321   \n",
       "min         0.000000  0.000000e+00       0.000000       0.000000   \n",
       "25%         0.000000  6.128476e+07       0.000000       0.000000   \n",
       "50%         0.000000  1.227974e+08       0.000000       0.000000   \n",
       "75%         0.000000  1.833096e+08       0.000000       0.000000   \n",
       "max         1.000000  2.441405e+08   64968.000000   24929.000000   \n",
       "\n",
       "          attribute4     attribute5     attribute6     attribute7   \n",
       "count  124494.000000  124494.000000  124494.000000  124494.000000  \\\n",
       "mean        1.741120      14.222669  260172.657726       0.292528   \n",
       "std        22.908507      15.943028   99151.078547       7.436924   \n",
       "min         0.000000       1.000000       8.000000       0.000000   \n",
       "25%         0.000000       8.000000  221452.000000       0.000000   \n",
       "50%         0.000000      10.000000  249799.500000       0.000000   \n",
       "75%         0.000000      12.000000  310266.000000       0.000000   \n",
       "max      1666.000000      98.000000  689161.000000     832.000000   \n",
       "\n",
       "          attribute8     attribute9  \n",
       "count  124494.000000  124494.000000  \n",
       "mean        0.292528      12.451524  \n",
       "std         7.436924     191.425623  \n",
       "min         0.000000       0.000000  \n",
       "25%         0.000000       0.000000  \n",
       "50%         0.000000       0.000000  \n",
       "75%         0.000000       0.000000  \n",
       "max       832.000000   18701.000000  "
      ]
     },
     "execution_count": 5,
     "metadata": {},
     "output_type": "execute_result"
    }
   ],
   "source": [
    "devices_df.describe()"
   ]
  },
  {
   "attachments": {},
   "cell_type": "markdown",
   "metadata": {},
   "source": [
    "Há variáveis com uma concentração alta de zeros. Vamos dar uma olhada no percentual de zeros para cada variável."
   ]
  },
  {
   "cell_type": "code",
   "execution_count": 6,
   "metadata": {},
   "outputs": [
    {
     "data": {
      "text/plain": [
       "date           0.000000\n",
       "device         0.000000\n",
       "failure       99.914855\n",
       "attribute1     0.008836\n",
       "attribute2    94.872042\n",
       "attribute3    92.662297\n",
       "attribute4    92.499237\n",
       "attribute5     0.000000\n",
       "attribute6     0.000000\n",
       "attribute7    98.828859\n",
       "attribute8    98.828859\n",
       "attribute9    78.202966\n",
       "dtype: float64"
      ]
     },
     "execution_count": 6,
     "metadata": {},
     "output_type": "execute_result"
    }
   ],
   "source": [
    "(devices_df==0).sum()/devices_df.shape[0]*100"
   ]
  },
  {
   "attachments": {},
   "cell_type": "markdown",
   "metadata": {},
   "source": [
    "#### Checagem de duplicidade no dataset"
   ]
  },
  {
   "cell_type": "code",
   "execution_count": 7,
   "metadata": {},
   "outputs": [
    {
     "data": {
      "text/plain": [
       "1"
      ]
     },
     "execution_count": 7,
     "metadata": {},
     "output_type": "execute_result"
    }
   ],
   "source": [
    "devices_df.duplicated().sum()"
   ]
  },
  {
   "attachments": {},
   "cell_type": "markdown",
   "metadata": {},
   "source": [
    "Há apenas uma linha duplicada em todas as colunas. Vamos remove-la."
   ]
  },
  {
   "cell_type": "code",
   "execution_count": 8,
   "metadata": {},
   "outputs": [],
   "source": [
    "devices_df.drop_duplicates(inplace=True)"
   ]
  },
  {
   "cell_type": "code",
   "execution_count": 9,
   "metadata": {},
   "outputs": [
    {
     "data": {
      "text/plain": [
       "(124493, 12)"
      ]
     },
     "execution_count": 9,
     "metadata": {},
     "output_type": "execute_result"
    }
   ],
   "source": [
    "devices_df.shape"
   ]
  },
  {
   "attachments": {},
   "cell_type": "markdown",
   "metadata": {},
   "source": [
    "#### Distribuição da variável Target (failure)"
   ]
  },
  {
   "cell_type": "code",
   "execution_count": 10,
   "metadata": {},
   "outputs": [
    {
     "data": {
      "image/png": "[encoded data removed]",
      "text/plain": [
       "<Figure size 640x480 with 1 Axes>"
      ]
     },
     "metadata": {
      "needs_background": "light"
     },
     "output_type": "display_data"
    },
    {
     "data": {
      "text/plain": [
       "<ggplot: (357678801)>"
      ]
     },
     "execution_count": 10,
     "metadata": {},
     "output_type": "execute_result"
    }
   ],
   "source": [
    "target_tb = pd.DataFrame(devices_df.failure.value_counts()).reset_index()\n",
    "target_tb['perc'] = target_tb['count']/devices_df.shape[0]\n",
    "target_tb['label'] = target_tb.apply(lambda x: str(round(x['count'])) + ' (' + str(round(x['perc']*100,1)) + '%)', axis=1)\n",
    "\n",
    "(\n",
    "    ggplot(target_tb)  \n",
    "    + aes(x=\"factor(failure)\", y=\"count\", label=\"label\", fill=\"failure\")  \n",
    "    + theme_minimal()\n",
    "    + geom_col()  \n",
    "    + geom_text(va=\"bottom\", size=10)\n",
    "    + scale_y_continuous(expand=(0, 0, 0.2, 0)) \n",
    "    + labs(title='Failure (target variable)',x='failure',y='')\n",
    "    + theme(legend_position=\"none\",\n",
    "            axis_text_y = element_blank()) \n",
    ")"
   ]
  },
  {
   "attachments": {},
   "cell_type": "markdown",
   "metadata": {},
   "source": [
    "Notamos que os dados são altamente desbalanceados, o que precisa ser aderessado de forma adequada. Em outras palavras, um modelo com output da classe majoritária (sem falha) resultaria em uma acurácia de 99.9% das causas, mesmo perdendo todos os casos positivos."
   ]
  },
  {
   "attachments": {},
   "cell_type": "markdown",
   "metadata": {},
   "source": [
    "Como os dados são históricos, vamos dar uma olhada para entender se a distribuição é uniforme entre os dias."
   ]
  },
  {
   "cell_type": "code",
   "execution_count": 11,
   "metadata": {},
   "outputs": [
    {
     "data": {
      "image/png": "[encoded data removed]",
      "text/plain": [
       "<Figure size 640x480 with 1 Axes>"
      ]
     },
     "metadata": {
      "needs_background": "light"
     },
     "output_type": "display_data"
    },
    {
     "data": {
      "text/plain": [
       "<ggplot: (357683720)>"
      ]
     },
     "execution_count": 11,
     "metadata": {},
     "output_type": "execute_result"
    }
   ],
   "source": [
    "(\n",
    "    ggplot(devices_df.groupby(['date'])['device'].agg('count').reset_index())  \n",
    "    + aes(x=\"date\", y=\"device\", group=1)  \n",
    "    + theme_minimal()\n",
    "    + geom_line()  \n",
    "    + scale_y_continuous() \n",
    "    + scale_x_date(date_labels= \"%b %d\")\n",
    "    + labs(title='Number of observations by Date',x='',y='')\n",
    ")"
   ]
  },
  {
   "cell_type": "code",
   "execution_count": 12,
   "metadata": {},
   "outputs": [
    {
     "data": {
      "image/png": "[encoded data removed]",
      "text/plain": [
       "<Figure size 640x480 with 1 Axes>"
      ]
     },
     "metadata": {
      "needs_background": "light"
     },
     "output_type": "display_data"
    },
    {
     "data": {
      "text/plain": [
       "<ggplot: (357741863)>"
      ]
     },
     "execution_count": 12,
     "metadata": {},
     "output_type": "execute_result"
    }
   ],
   "source": [
    "(\n",
    "    ggplot(devices_df[devices_df['failure']==1].groupby(['date'])['device'].agg('count').reset_index())  \n",
    "    + aes(x=\"date\", y=\"device\", group=1)  \n",
    "    + theme_minimal()\n",
    "    + geom_line()  \n",
    "    + scale_y_continuous() \n",
    "    + scale_x_date(date_labels= \"%b %d\")\n",
    "    + labs(title='Number of failures by Date',x='',y='')\n",
    ")"
   ]
  },
  {
   "cell_type": "code",
   "execution_count": 13,
   "metadata": {},
   "outputs": [
    {
     "data": {
      "image/png": "[encoded data removed]",
      "text/plain": [
       "<Figure size 1000x600 with 2 Axes>"
      ]
     },
     "metadata": {},
     "output_type": "display_data"
    }
   ],
   "source": [
    "# Correlação entre variáveis\n",
    "corr_matrix = devices_df.select_dtypes(include=np.number).corr()\n",
    "\n",
    "# plot the heatmap\n",
    "plt.figure(figsize=(10,6))\n",
    "sns.heatmap(corr_matrix, \n",
    "        xticklabels=corr_matrix.columns,\n",
    "        yticklabels=corr_matrix.columns, annot = True, fmt = \".1f\")\n",
    "plt.show()"
   ]
  },
  {
   "cell_type": "markdown",
   "metadata": {},
   "source": [
    "There is a perfect correlation between attribute7 and attribute8, so one of them will be removed."
   ]
  },
  {
   "cell_type": "code",
   "execution_count": 14,
   "metadata": {},
   "outputs": [],
   "source": [
    "devices_df.drop('attribute8', axis=1, inplace=True)"
   ]
  },
  {
   "cell_type": "code",
   "execution_count": 57,
   "metadata": {},
   "outputs": [],
   "source": [
    "sns.pairplot(devices_df.select_dtypes(include=np.number), hue=\"failure\")\n",
    "plt.show()"
   ]
  },
  {
   "attachments": {},
   "cell_type": "markdown",
   "metadata": {},
   "source": [
    "### Modeling"
   ]
  },
  {
   "attachments": {},
   "cell_type": "markdown",
   "metadata": {},
   "source": [
    "Temos um problema de Classificação e testaremos os seguintes algoritmos:\n",
    "- Regressão Logística\n",
    "- Árvore de Decisão\n",
    "- Floresta Aleatória\n",
    "- LightGBM\n",
    "- XGBoost\n",
    "\n",
    "<br> Será utilizado alguns parâmetros como baseline, para depois ser feito uma melhor escolha."
   ]
  },
  {
   "cell_type": "code",
   "execution_count": 15,
   "metadata": {},
   "outputs": [],
   "source": [
    "seed=42\n",
    "lr_modeldefault = LogisticRegression(random_state=seed, penalty='l2', C=1.0)\n",
    "dt_modeldefault = DecisionTreeClassifier(random_state=seed, criterion='gini', max_depth=5, min_samples_split=5, min_samples_leaf=5)\n",
    "rf_modeldefault = RandomForestClassifier(random_state=seed, n_estimators=100, criterion='gini', max_depth=10, min_samples_split=5, min_samples_leaf=5)\n",
    "lgm_modeldefault = LGBMClassifier(random_state=seed, learning_rate=0.1, n_estimators=100, max_depth=10, subsample=0.8, colsample_bytree=0.8)\n",
    "xgb_modeldefault = XGBClassifier(random_state=seed, learning_rate=0.1, n_estimators=100, max_depth=10, subsample=0.8, colsample_bytree=0.8)\n",
    "\n",
    "models_list = [('Log. Regression.',lr_modeldefault), \n",
    "               ('Decision Tree',dt_modeldefault), \n",
    "               ('Random Forest',rf_modeldefault),\n",
    "               ('LGBM',lgm_modeldefault), \n",
    "               ('XGB',xgb_modeldefault)]"
   ]
  },
  {
   "attachments": {},
   "cell_type": "markdown",
   "metadata": {},
   "source": [
    "#### Dataset split"
   ]
  },
  {
   "attachments": {},
   "cell_type": "markdown",
   "metadata": {},
   "source": [
    "Para a modelagem, devemos separar os dados entre um dataset de treino e um dataset de teste para podermos validar o poder de generalização do modelo final. <br> Como vimos que os dados históricos não possui uniformidade de observação, utilizaremos uma validação Hold Out aleatória.\n",
    "<br> Vamos adotar um split de 80% treino / 20% teste. Por conta do desbalanceamento da variável target, adotaremos uma amostragem estratificada para certificar de que haverá representação da classe minoritária em ambos datasets de forma consistente."
   ]
  },
  {
   "cell_type": "code",
   "execution_count": 16,
   "metadata": {},
   "outputs": [],
   "source": [
    "X = devices_df.drop(['date','device','failure'], axis=1)\n",
    "y = devices_df['failure']"
   ]
  },
  {
   "cell_type": "code",
   "execution_count": 17,
   "metadata": {},
   "outputs": [],
   "source": [
    "X_train, X_test, y_train, y_test = train_test_split(\n",
    "    X, y, test_size=0.2, random_state=seed, stratify=devices_df['failure'])"
   ]
  },
  {
   "attachments": {},
   "cell_type": "markdown",
   "metadata": {},
   "source": [
    "Alguns modelos são sensíveis a diferentes escalas de variáveis e a normalização é aconselhável (muitas vezes necessária), para prevenir resultados não confiáveis e a não convergência, especialmente em modelos baseados em distância. Um dos modelos que podem ser beneficiados com a normalização dos dados é a Regressão Logística, então realizaremos uma normalização dos dados com base nos dados de treino.\n",
    "<br> Note que modelos a base de árvore não precisam deste processo e portanto, a realização (ou não realização) não altera os resultados.\n",
    "<br> Há diferentes técnicas, usaremos o Min-Max Scaler."
   ]
  },
  {
   "cell_type": "code",
   "execution_count": 18,
   "metadata": {},
   "outputs": [],
   "source": [
    "scaler = MinMaxScaler()\n",
    "scaler.fit(X_train)\n",
    "X_train_scale = scaler.transform(X_train)\n",
    "X_test_scale = scaler.transform(X_test)"
   ]
  },
  {
   "attachments": {},
   "cell_type": "markdown",
   "metadata": {},
   "source": [
    "Vamos também comparar as seguintes técnicas de resampling:\n",
    "- Undersampling\n",
    "- Oversampling\n",
    "- SMOTE (Synthetic Minority Oversampling Technique)\n",
    "\n",
    "Para isso, é escolhido um ratio que determina quanto da classe majoritária será reduzida (no caso de Under Sampling) e quanto da classe minoritária será duplicada (no caso de Over Sampling). Adotaremos o ratio de 1 que significa que nossa base final estará balanceada 50/50, mas esse ratio pode ser tunado para encontrar o valor mais apropriado."
   ]
  },
  {
   "cell_type": "code",
   "execution_count": 19,
   "metadata": {},
   "outputs": [],
   "source": [
    "oversample = RandomOverSampler(sampling_strategy=1, random_state=seed)\n",
    "undersample = RandomUnderSampler(sampling_strategy=1, random_state=seed)\n",
    "smote = SMOTE(sampling_strategy=1, random_state=seed)"
   ]
  },
  {
   "cell_type": "code",
   "execution_count": 20,
   "metadata": {},
   "outputs": [],
   "source": [
    "X_over, y_over = oversample.fit_resample(X_train_scale, y_train)\n",
    "X_under, y_under = undersample.fit_resample(X_train_scale, y_train)\n",
    "X_smote, y_smote = smote.fit_resample(X_train_scale, y_train)\n",
    "\n",
    "training_list = [(None, X_train_scale, y_train),('Over' ,X_over, y_over),('Under', X_under, y_under),('SMOTE', X_smote, y_smote)]"
   ]
  },
  {
   "cell_type": "code",
   "execution_count": 21,
   "metadata": {},
   "outputs": [],
   "source": [
    "def run_models(X_train, y_train, X_test, y_test, prefix=None):\n",
    "  results = []\n",
    "  names = []\n",
    "  dfs = []\n",
    "  y_pred_list = []\n",
    "  scoring = ['precision', 'recall', 'f1']\n",
    "  for name, model in models_list:\n",
    "    if prefix is not None:\n",
    "      name = prefix + '_' + name\n",
    "    kfold = KFold(n_splits=5, shuffle=True, random_state=seed)\n",
    "    cv_results = cross_validate(model, X_train, y_train, cv=kfold, scoring=scoring, return_train_score=True)\n",
    "    clf = model.fit(X_train, y_train)\n",
    "    y_pred = clf.predict(X_test)\n",
    "    y_pred_list.append((name,y_pred))\n",
    "    results.append(cv_results)\n",
    "    names.append(name)\n",
    "    this_df = pd.DataFrame(cv_results)\n",
    "    this_df['model'] = name\n",
    "    dfs.append(this_df)\n",
    "    final = pd.concat(dfs, ignore_index=True)\n",
    "    dct = dict(ChainMap(*reversed([{f'{k}_mean': (k, 'mean'), f'{k}_std': (k, 'std')} for k in [i for i in final.columns if i != 'model']])))\n",
    "    final = final.groupby('model').agg(**dct)\n",
    "    final = final.reset_index()\n",
    "   \n",
    "  return final, y_pred_list"
   ]
  },
  {
   "cell_type": "code",
   "execution_count": 22,
   "metadata": {},
   "outputs": [],
   "source": [
    "final = []\n",
    "y_pred_list = []\n",
    "for tr in training_list:\n",
    "    final_, y_pred_list_ = run_models(tr[1], tr[2], X_test_scale, y_test, prefix=tr[0])\n",
    "    final.append(final_)\n",
    "    y_pred_list.append(y_pred_list_)\n",
    "final = pd.concat(final, ignore_index=True)"
   ]
  },
  {
   "cell_type": "code",
   "execution_count": 23,
   "metadata": {},
   "outputs": [
    {
     "data": {
      "image/png": "[encoded data removed]",
      "text/plain": [
       "<Figure size 640x480 with 1 Axes>"
      ]
     },
     "metadata": {
      "needs_background": "light"
     },
     "output_type": "display_data"
    },
    {
     "name": "stdout",
     "output_type": "stream",
     "text": [
      "\n"
     ]
    },
    {
     "data": {
      "image/png": "[encoded data removed]",
      "text/plain": [
       "<Figure size 640x480 with 1 Axes>"
      ]
     },
     "metadata": {
      "needs_background": "light"
     },
     "output_type": "display_data"
    },
    {
     "name": "stdout",
     "output_type": "stream",
     "text": [
      "\n"
     ]
    },
    {
     "data": {
      "image/png": "[encoded data removed]",
      "text/plain": [
       "<Figure size 640x480 with 1 Axes>"
      ]
     },
     "metadata": {
      "needs_background": "light"
     },
     "output_type": "display_data"
    },
    {
     "name": "stdout",
     "output_type": "stream",
     "text": [
      "\n"
     ]
    }
   ],
   "source": [
    "def sampling_used(row):\n",
    "    if row['model'].split('_')[0]=='Over':\n",
    "        return 'Over'\n",
    "    elif row['model'].split('_')[0]=='Under':\n",
    "        return 'Under' \n",
    "    elif row['model'].split('_')[0]=='SMOTE':\n",
    "        return 'SMOTE' \n",
    "    else:\n",
    "        return 'None'\n",
    "    \n",
    "final_viz = final.copy()\n",
    "final_viz['sampling'] = final_viz.apply(sampling_used, axis=1)\n",
    "final_viz['model_name'] = final_viz['model'].apply(lambda x: x.split('_')[0] if len(x.split('_'))==1 else x.split('_')[1])\n",
    "final_viz['model_name'] = pd.Categorical(final_viz['model_name'], categories=[i[0] for i in models_list], ordered=True)\n",
    "final_viz['sampling'] = pd.Categorical(final_viz['sampling'], categories=['None','Under','Over','SMOTE'], ordered=True)\n",
    "\n",
    "for title, var in [('Precision','test_precision_mean'),\n",
    "          ('Recall','test_recall_mean'),\n",
    "          ('F1 Score','test_f1_mean')]:\n",
    "    label_ = \"round(\" + var + \",2)\"\n",
    "    print(\n",
    "    ggplot(final_viz)  \n",
    "    + aes(x=\"factor(sampling)\", y=var, label=label_, fill=\"model_name\")  \n",
    "    + theme_minimal()\n",
    "    + geom_col(position = \"dodge\")  \n",
    "    + geom_text(va=\"bottom\", size=8, position = position_dodge(width = 1))\n",
    "    + scale_y_continuous(expand=(0, 0, 0.05, 0)) \n",
    "    + labs(title='Average ' + title + ' - Test',x='',y='')\n",
    "    + theme(legend_title=element_blank(),\n",
    "            axis_text_y = element_blank()) \n",
    "    + scale_fill_brewer(type='qual', palette=7)\n",
    ") \n"
   ]
  },
  {
   "attachments": {},
   "cell_type": "markdown",
   "metadata": {},
   "source": [
    "Podemos observar que para todos os modelos, as técnicas de Over Sampling e SMOTE performam melhor. Como não houve uma grande melhora ao adotar o SMOTE em relação ao Over Sampling e a performance foi similar, seguiremos com o último, por conta da técnica de SMOTE introduzir dados sintéticos, o que pode aumentar viés e adicionar ruído caso esses dados não representem a realidade."
   ]
  },
  {
   "attachments": {},
   "cell_type": "markdown",
   "metadata": {},
   "source": [
    "Vamos agora analisar os resultados dos modelos na base de teste, comparando as curvas de Precision-Recall."
   ]
  },
  {
   "cell_type": "code",
   "execution_count": 25,
   "metadata": {},
   "outputs": [
    {
     "data": {
      "text/html": [
       "<div>\n",
       "<style scoped>\n",
       "    .dataframe tbody tr th:only-of-type {\n",
       "        vertical-align: middle;\n",
       "    }\n",
       "\n",
       "    .dataframe tbody tr th {\n",
       "        vertical-align: top;\n",
       "    }\n",
       "\n",
       "    .dataframe thead th {\n",
       "        text-align: right;\n",
       "    }\n",
       "</style>\n",
       "<table border=\"1\" class=\"dataframe\">\n",
       "  <thead>\n",
       "    <tr style=\"text-align: right;\">\n",
       "      <th></th>\n",
       "      <th>Model</th>\n",
       "      <th>Precision</th>\n",
       "      <th>Recall</th>\n",
       "      <th>F1 Score</th>\n",
       "    </tr>\n",
       "  </thead>\n",
       "  <tbody>\n",
       "    <tr>\n",
       "      <th>0</th>\n",
       "      <td>Log. Regression.</td>\n",
       "      <td>0.009259</td>\n",
       "      <td>0.523810</td>\n",
       "      <td>0.018197</td>\n",
       "    </tr>\n",
       "    <tr>\n",
       "      <th>0</th>\n",
       "      <td>Decision Tree</td>\n",
       "      <td>0.011204</td>\n",
       "      <td>0.571429</td>\n",
       "      <td>0.021978</td>\n",
       "    </tr>\n",
       "    <tr>\n",
       "      <th>0</th>\n",
       "      <td>Random Forest</td>\n",
       "      <td>0.005128</td>\n",
       "      <td>0.095238</td>\n",
       "      <td>0.009732</td>\n",
       "    </tr>\n",
       "    <tr>\n",
       "      <th>0</th>\n",
       "      <td>LGBM</td>\n",
       "      <td>0.028846</td>\n",
       "      <td>0.142857</td>\n",
       "      <td>0.048000</td>\n",
       "    </tr>\n",
       "    <tr>\n",
       "      <th>0</th>\n",
       "      <td>XGB</td>\n",
       "      <td>0.000000</td>\n",
       "      <td>0.000000</td>\n",
       "      <td>0.000000</td>\n",
       "    </tr>\n",
       "  </tbody>\n",
       "</table>\n",
       "</div>"
      ],
      "text/plain": [
       "              Model  Precision    Recall  F1 Score\n",
       "0  Log. Regression.   0.009259  0.523810  0.018197\n",
       "0     Decision Tree   0.011204  0.571429  0.021978\n",
       "0     Random Forest   0.005128  0.095238  0.009732\n",
       "0              LGBM   0.028846  0.142857  0.048000\n",
       "0               XGB   0.000000  0.000000  0.000000"
      ]
     },
     "execution_count": 25,
     "metadata": {},
     "output_type": "execute_result"
    }
   ],
   "source": [
    "val_tb = pd.DataFrame()\n",
    "\n",
    "for i in range(len(models_list)):\n",
    "  val_ = pd.DataFrame({'Model':[models_list[i][0]],\n",
    "                                       'Precision':[precision_score(y_test,y_pred_list[1][i][1])],\n",
    "                                       'Recall':[recall_score(y_test,y_pred_list[1][i][1])],\n",
    "                                       'F1 Score':[f1_score(y_test,y_pred_list[1][i][1])]}\n",
    "                                       )\n",
    "  val_tb = pd.concat([val_tb, val_], axis=0)\n",
    "\n",
    "val_tb"
   ]
  },
  {
   "attachments": {},
   "cell_type": "markdown",
   "metadata": {},
   "source": [
    "Por fim, notamos uma melhor performance no modelo LGBM através da métrica F1 Score. Podemos realizar o hyperparameter tuning para encontrar o melhor conjunto que resulta no melhor modelo.\n",
    "Para isso, é possível usar o GridSearch, que busca de forma exaustiva um determinado espaço de parâmetros. Porém, devido a alta quantidade de tempo que é demandada para isso, o RandomSearch é preferível."
   ]
  },
  {
   "cell_type": "code",
   "execution_count": 48,
   "metadata": {},
   "outputs": [
    {
     "name": "stdout",
     "output_type": "stream",
     "text": [
      "Fitting 5 folds for each of 10 candidates, totalling 50 fits\n"
     ]
    }
   ],
   "source": [
    "lgbm_null = LGBMClassifier()\n",
    "# Pela limitação de tempo, testarei apenas as 50 primeiras combinações aleatórias\n",
    "random_grid = {'learning_rate': [0.05, 0.1, 0.2],\n",
    "               'n_estimators': [50, 100, 200],\n",
    "               'max_depth': [3, 5, 7, 10],\n",
    "               'subsample': [0.5, 0.7, 0.9, 1.0],\n",
    "               'colsample_bytree': [0.5, 0.7, 0.9, 1.0],\n",
    "               'reg_alpha': [0, 0.1, 0.5, 1.0],\n",
    "               'reg_lambda': [0, 0.1, 0.5, 1.0]\n",
    "               }\n",
    "clf = RandomizedSearchCV(lgbm_null, random_grid, random_state=seed, n_iter=10, cv=5, verbose=1, return_train_score=True, scoring='f1')\n",
    "clf.fit(X_over,y_over)\n",
    "clf.best_params_\n",
    "clf_final = LGBMClassifier(**clf.best_params_).fit(X_over,y_over)"
   ]
  },
  {
   "cell_type": "code",
   "execution_count": 49,
   "metadata": {},
   "outputs": [
    {
     "data": {
      "text/plain": [
       "{'subsample': 0.9,\n",
       " 'reg_lambda': 0.1,\n",
       " 'reg_alpha': 0.5,\n",
       " 'n_estimators': 200,\n",
       " 'max_depth': 5,\n",
       " 'learning_rate': 0.1,\n",
       " 'colsample_bytree': 0.9}"
      ]
     },
     "execution_count": 49,
     "metadata": {},
     "output_type": "execute_result"
    }
   ],
   "source": [
    "clf.best_params_"
   ]
  },
  {
   "cell_type": "code",
   "execution_count": 50,
   "metadata": {},
   "outputs": [
    {
     "data": {
      "image/png": "[encoded data removed]",
      "text/plain": [
       "<Figure size 640x480 with 1 Axes>"
      ]
     },
     "metadata": {},
     "output_type": "display_data"
    }
   ],
   "source": [
    "pd.Series(clf_final.feature_importances_, index=X_train.columns).nlargest(10).plot(kind='barh')\n",
    "plt.show()"
   ]
  },
  {
   "cell_type": "code",
   "execution_count": 51,
   "metadata": {},
   "outputs": [
    {
     "data": {
      "text/html": [
       "<div>\n",
       "<style scoped>\n",
       "    .dataframe tbody tr th:only-of-type {\n",
       "        vertical-align: middle;\n",
       "    }\n",
       "\n",
       "    .dataframe tbody tr th {\n",
       "        vertical-align: top;\n",
       "    }\n",
       "\n",
       "    .dataframe thead th {\n",
       "        text-align: right;\n",
       "    }\n",
       "</style>\n",
       "<table border=\"1\" class=\"dataframe\">\n",
       "  <thead>\n",
       "    <tr style=\"text-align: right;\">\n",
       "      <th></th>\n",
       "      <th>Model</th>\n",
       "      <th>Precision - Train</th>\n",
       "      <th>Recall - Train</th>\n",
       "      <th>F1 Score - Train</th>\n",
       "      <th>Precision - Test</th>\n",
       "      <th>Recall - Test</th>\n",
       "      <th>F1 Score - Test</th>\n",
       "    </tr>\n",
       "  </thead>\n",
       "  <tbody>\n",
       "    <tr>\n",
       "      <th>0</th>\n",
       "      <td>Log. Regression.</td>\n",
       "      <td>0.318352</td>\n",
       "      <td>1.0</td>\n",
       "      <td>0.482955</td>\n",
       "      <td>0.017857</td>\n",
       "      <td>0.047619</td>\n",
       "      <td>0.025974</td>\n",
       "    </tr>\n",
       "    <tr>\n",
       "      <th>0</th>\n",
       "      <td>Decision Tree</td>\n",
       "      <td>0.318352</td>\n",
       "      <td>1.0</td>\n",
       "      <td>0.482955</td>\n",
       "      <td>0.017857</td>\n",
       "      <td>0.047619</td>\n",
       "      <td>0.025974</td>\n",
       "    </tr>\n",
       "    <tr>\n",
       "      <th>0</th>\n",
       "      <td>Random Forest</td>\n",
       "      <td>0.318352</td>\n",
       "      <td>1.0</td>\n",
       "      <td>0.482955</td>\n",
       "      <td>0.017857</td>\n",
       "      <td>0.047619</td>\n",
       "      <td>0.025974</td>\n",
       "    </tr>\n",
       "    <tr>\n",
       "      <th>0</th>\n",
       "      <td>LGBM</td>\n",
       "      <td>0.318352</td>\n",
       "      <td>1.0</td>\n",
       "      <td>0.482955</td>\n",
       "      <td>0.017857</td>\n",
       "      <td>0.047619</td>\n",
       "      <td>0.025974</td>\n",
       "    </tr>\n",
       "    <tr>\n",
       "      <th>0</th>\n",
       "      <td>XGB</td>\n",
       "      <td>0.318352</td>\n",
       "      <td>1.0</td>\n",
       "      <td>0.482955</td>\n",
       "      <td>0.017857</td>\n",
       "      <td>0.047619</td>\n",
       "      <td>0.025974</td>\n",
       "    </tr>\n",
       "  </tbody>\n",
       "</table>\n",
       "</div>"
      ],
      "text/plain": [
       "              Model  Precision - Train  Recall - Train  F1 Score - Train   \n",
       "0  Log. Regression.           0.318352             1.0          0.482955  \\\n",
       "0     Decision Tree           0.318352             1.0          0.482955   \n",
       "0     Random Forest           0.318352             1.0          0.482955   \n",
       "0              LGBM           0.318352             1.0          0.482955   \n",
       "0               XGB           0.318352             1.0          0.482955   \n",
       "\n",
       "   Precision - Test  Recall - Test  F1 Score - Test  \n",
       "0          0.017857       0.047619         0.025974  \n",
       "0          0.017857       0.047619         0.025974  \n",
       "0          0.017857       0.047619         0.025974  \n",
       "0          0.017857       0.047619         0.025974  \n",
       "0          0.017857       0.047619         0.025974  "
      ]
     },
     "execution_count": 51,
     "metadata": {},
     "output_type": "execute_result"
    }
   ],
   "source": [
    "val_tb = pd.DataFrame()\n",
    "pred_train = clf_final.predict(X_train_scale)\n",
    "pred_test = clf_final.predict(X_test_scale)\n",
    "\n",
    "for i in range(len(models_list)):\n",
    "  val_ = pd.DataFrame({'Model':[models_list[i][0]],\n",
    "                                       'Precision - Train':[precision_score(y_train,pred_train)],\n",
    "                                       'Recall - Train':[recall_score(y_train,pred_train)],\n",
    "                                       'F1 Score - Train':[f1_score(y_train,pred_train)],\n",
    "                                       'Precision - Test':[precision_score(y_test,pred_test)],\n",
    "                                       'Recall - Test':[recall_score(y_test,pred_test)],\n",
    "                                       'F1 Score - Test':[f1_score(y_test,pred_test)]\n",
    "                                       }\n",
    "                                       )\n",
    "  val_tb = pd.concat([val_tb, val_], axis=0)\n",
    "\n",
    "val_tb"
   ]
  },
  {
   "attachments": {},
   "cell_type": "markdown",
   "metadata": {},
   "source": []
  },
  {
   "cell_type": "code",
   "execution_count": 52,
   "metadata": {},
   "outputs": [
    {
     "data": {
      "image/png": "[encoded data removed]",
      "text/plain": [
       "<Figure size 640x480 with 2 Axes>"
      ]
     },
     "metadata": {},
     "output_type": "display_data"
    }
   ],
   "source": [
    "cm_matrix = confusion_matrix(y_train,pred_train)\n",
    "cm_display = ConfusionMatrixDisplay(confusion_matrix = cm_matrix, display_labels = [False, True])\n",
    "\n",
    "cm_display.plot()\n",
    "plt.show()"
   ]
  },
  {
   "cell_type": "code",
   "execution_count": 56,
   "metadata": {},
   "outputs": [
    {
     "data": {
      "image/png": "[encoded data removed]",
      "text/plain": [
       "<Figure size 640x480 with 2 Axes>"
      ]
     },
     "metadata": {},
     "output_type": "display_data"
    }
   ],
   "source": [
    "cm_matrix = confusion_matrix(y_test,pred_test)\n",
    "cm_display = ConfusionMatrixDisplay(confusion_matrix = cm_matrix, display_labels = [False, True])\n",
    "\n",
    "cm_display.plot()\n",
    "plt.show()"
   ]
  },
  {
   "attachments": {},
   "cell_type": "markdown",
   "metadata": {},
   "source": [
    "O modelo final não resultou predições boas. Como o resultado do Cross Validation foi alto, há um problema de overfitting. \n",
    "\n",
    "<br> Algumas notas de possíveis melhorias:\n",
    "- Entendimento mais a fundo das variáveis, seus significados, importâncias e ruídos\n",
    "    - Há uma alta concentração de zeros. O que seriam esses valores? Seriam equivalentes a falta de informação (NA)?\n",
    "    - Identificação de possíveis outliers e a remoção dos mesmos\n",
    "    - Testar outras técnicas para padronização dos dados\n",
    "    - Feature selection das variáveis (eliminação de possíveis ruídos)\n",
    "    - Alguma variável numérica era na verdade categórica e deve ser tratada como tal? Dumificação, Target encoding, etc\n",
    "- Hyperparameter tuning\n",
    "    - Neste desafio, foi testado apenas combinações baseline dos modelos, e mesmo o LGBM que foi realizado o GridSearch para ilustração, foi feito apenas 10 iterações pela limitação de tempo e capacidade de máquina\n",
    "    - Teste de outras soluções mais robustas, como por exemplo, buscas bayesianas de parâmetros (ex: HyperOpt)\n",
    "    - Testar mais a fundo regularizações, por conta do overfitting.\n",
    "- Business/Limitações\n",
    "    - Há outros dados que seria possível incluir no modelo? É possível juntar com outras fontes?\n",
    "    - Feature engineering (criação de novas variáveis a partir das existentes)\n",
    "    - Há mais dados históricos para complementar os dados?"
   ]
  },
  {
   "attachments": {},
   "cell_type": "markdown",
   "metadata": {},
   "source": [
    "### Salvando modelo final"
   ]
  },
  {
   "cell_type": "code",
   "execution_count": 46,
   "metadata": {},
   "outputs": [],
   "source": [
    "file_name = \"xgb_devices_failure.pkl\"\n",
    "with open(file_name, 'wb') as file:\n",
    "    pickle.dump(clf_final, file)"
   ]
  },
  {
   "cell_type": "code",
   "execution_count": null,
   "metadata": {},
   "outputs": [],
   "source": []
  }
 ],
 "metadata": {
  "kernelspec": {
   "display_name": "meli_venv",
   "language": "python",
   "name": "python3"
  },
  "language_info": {
   "codemirror_mode": {
    "name": "ipython",
    "version": 3
   },
   "file_extension": ".py",
   "mimetype": "text/x-python",
   "name": "python",
   "nbconvert_exporter": "python",
   "pygments_lexer": "ipython3",
   "version": "3.10.9"
  },
  "orig_nbformat": 4,
  "vscode": {
   "interpreter": {
    "hash": "fe669ec0bdb024e98d723e03cbefb71e98f46c25f6f3afbc6cc58a06fc298235"
   }
  }
 },
 "nbformat": 4,
 "nbformat_minor": 2
}
